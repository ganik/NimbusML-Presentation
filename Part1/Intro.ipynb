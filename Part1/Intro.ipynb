{
  "cells": [
    {
      "metadata": {},
      "cell_type": "markdown",
      "source": "# Tutorial 1: From Scikit-Learn to NimbusML\n\n\n## Goals:\n* Learn to write scripts with NimbusML components\n* Learn to boost your existing Scikit Learn scripts with NimbusML components\n\n## Why to use NimbusML ?\n* Used ML.NET before?\n* Used Scikit-Learn before?"
    },
    {
      "metadata": {},
      "cell_type": "markdown",
      "source": "### Would you want this?\n<img align=\"middle\" src=\"https://nimbusml.blob.core.windows.net/mlads/goals.png\" height=700 />\n\n\n### NimbusML:\n<img align=\"middle\" src=\"https://nimbusml.blob.core.windows.net/mlads/speed.png\" width=550 height=550 />\n"
    },
    {
      "metadata": {},
      "cell_type": "markdown",
      "source": "## Lets start ...\n### Lets do all the imports:"
    },
    {
      "metadata": {
        "trusted": true
      },
      "cell_type": "code",
      "source": "# Cell 1\n\n# imports\nimport pandas as pd\nimport numpy as np\nfrom sklearn.pipeline import Pipeline\nfrom sklearn.feature_extraction.text import CountVectorizer, TfidfTransformer\nfrom sklearn.metrics import accuracy_score\nfrom sklearn.linear_model import SGDClassifier\n\n# NimbusML imports\nfrom nimbusml import Pipeline as NimbusPipeline, FileDataStream\nfrom nimbusml.linear_model import FastLinearBinaryClassifier\nfrom nimbusml.feature_extraction.text import NGramFeaturizer",
      "execution_count": null,
      "outputs": []
    },
    {
      "metadata": {},
      "cell_type": "markdown",
      "source": "### Set up train and test data:"
    },
    {
      "metadata": {
        "trusted": true
      },
      "cell_type": "code",
      "source": "# Cell 2\n\nnp.random.seed(0)\n\n# Prepare train and test data\n# Twitter sentiment prediction\n# Subset of Kaggle Twitter positive/negative sentiment prediction https://www.kaggle.com/c/twitter-analysis  \n\ntrain_file = 'data/train.tsv'\ntest_file = 'data/test.tsv'\ndata_train = pd.read_csv(train_file, header=0, sep='\\t', encoding='latin-1') \ndata_test = pd.read_csv(test_file, header=0, sep='\\t', encoding='latin-1')\nprint(data_train[:10])\n\nlabel_column = 'Sentiment'\nfeature_column = 'SentimentText'\ntrain_X = data_train[feature_column].values.astype('U')\ntrain_y = data_train[label_column]\n\nk = 5000 # cut file into 500 lines\ntest_X = data_test[feature_column][:k].values.astype('U')\ntest_y = data_test[label_column][:k]",
      "execution_count": null,
      "outputs": []
    },
    {
      "metadata": {},
      "cell_type": "markdown",
      "source": "### Scikit script:"
    },
    {
      "metadata": {
        "trusted": true
      },
      "cell_type": "code",
      "source": "# Cell 3\n\n# Define pipeline, add transforms and classifier\npipe = Pipeline([\n('vect', CountVectorizer()),\n('tfidf', TfidfTransformer()),\n('clf', SGDClassifier(max_iter=10))])\n\n# Train pipeline\npipe.fit(train_X, train_y)\n\n# Get predictions\ntest_pred = pipe.predict(test_X)\n\nprint(test_pred[:10])\nprint(\"acc: %s\" % accuracy_score(test_pred, test_y))",
      "execution_count": null,
      "outputs": []
    },
    {
      "metadata": {},
      "cell_type": "markdown",
      "source": "### Replace with NimbusML learner:"
    },
    {
      "metadata": {
        "trusted": true
      },
      "cell_type": "code",
      "source": "# Cell 4\n\n# Define pipeline, add transforms and classifier\npipe = Pipeline([\n('vect', CountVectorizer()),\n('tfidf', TfidfTransformer()),\n('clf', FastLinearBinaryClassifier())])\n\n# Train pipeline\npipe.fit(train_X, train_y)\n\n# Get predictions\ntest_pred = pipe.predict(test_X)\n\n#print(test_pred[:10])\nprint(\"acc: %s\" % accuracy_score(test_pred, test_y))",
      "execution_count": null,
      "outputs": []
    },
    {
      "metadata": {},
      "cell_type": "markdown",
      "source": "### If you need to look up FastLinearBinaryClassifier details, here is extensive doc site:\nhttps://docs.microsoft.com/en-us/NimbusML\nAdditional TLC support alias: tlcsupp@microsoft.com\n\n\n### High level architecture\n\n* Memory passed in by ref\n* Memory passed back by copy\n\n<img align=\"middle\" src=\"https://nimbusml.blob.core.windows.net/mlads/architecture.png\" width=600 heigth=400 />\n\n"
    },
    {
      "metadata": {},
      "cell_type": "markdown",
      "source": "### Optimized NimbusML script:"
    },
    {
      "metadata": {
        "trusted": true
      },
      "cell_type": "code",
      "source": "# Cell 5\n\nschema = 'sep=tab col=Label:R4:0 col=SentimentText:TX:1 header=+'\ntrainDs = FileDataStream(train_file, schema)\ntestDs = FileDataStream(test_file, schema)\n\npipe = NimbusPipeline([\n  NGramFeaturizer() << {'Features':'SentimentText'},\n  FastLinearBinaryClassifier()])\n\n# Train pipeline\npipe.fit(trainDs)\n\n# Get predictions\ntest_pred = pipe.predict(testDs)\n\n#print(test_pred[:10])\nprint(\"acc: %s\" % accuracy_score(test_pred['PredictedLabel'][:k], test_y))",
      "execution_count": null,
      "outputs": []
    },
    {
      "metadata": {},
      "cell_type": "markdown",
      "source": "## Recap:\n* Created simple scikit learn script\n* Used NimbusML learner in scikit learn pipeline\n* Used NimbusML transformers and learner in NimbusML pipeline \n\nAnd if we would have run a whole dataset:\n<img align=\"middle\" src=\"https://nimbusml.blob.core.windows.net/mlads/scikit2nimbusml.png\"/>"
    },
    {
      "metadata": {
        "trusted": true
      },
      "cell_type": "code",
      "source": "",
      "execution_count": null,
      "outputs": []
    }
  ],
  "metadata": {
    "kernelspec": {
      "name": "python36",
      "display_name": "Python 3.6",
      "language": "python"
    },
    "language_info": {
      "mimetype": "text/x-python",
      "nbconvert_exporter": "python",
      "name": "python",
      "pygments_lexer": "ipython3",
      "version": "3.6.6",
      "file_extension": ".py",
      "codemirror_mode": {
        "version": 3,
        "name": "ipython"
      }
    }
  },
  "nbformat": 4,
  "nbformat_minor": 2
}