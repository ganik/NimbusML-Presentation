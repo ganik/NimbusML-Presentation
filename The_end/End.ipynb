{
 "cells": [
  {
   "cell_type": "markdown",
   "metadata": {
    "collapsed": true
   },
   "source": [
    "## Recap:\n",
    "* Showed how to add PyTLC components into existing scikit-learn script\n",
    "* Introduction on: \n",
    "    * PyTLC structures: Pipeline, DataStream, FileDataStream\n",
    "    * and syntax: <<, columns\n",
    "* Example on text processing\n",
    "* Example on image processing\n"
   ]
  },
  {
   "cell_type": "markdown",
   "metadata": {},
   "source": [
    "## Future PyTLC developments:\n",
    "* Sweeping\n",
    "* More extensive benchmarks\n",
    "* Recipes\n",
    "* GUI integration\n",
    "* Distributed training"
   ]
  },
  {
   "cell_type": "markdown",
   "metadata": {},
   "source": [
    "## Important links:\n",
    " * PyTLC documentation: https://review.docs.microsoft.com/en-us/pytlc/?branch=release_v.0.0.5\n",
    " * TLC support: tlcsupp@microsoft.com"
   ]
  },
  {
   "cell_type": "markdown",
   "metadata": {},
   "source": [
    "## Thanks:\n",
    "* To Azure Notebooks team (Rick Winter, Shahrokh Mortazavi)\n"
   ]
  }
 ],
 "metadata": {
  "kernelspec": {
   "display_name": "Python 3.6",
   "language": "python",
   "name": "python36"
  },
  "language_info": {
   "codemirror_mode": {
    "name": "ipython",
    "version": 3
   },
   "file_extension": ".py",
   "mimetype": "text/x-python",
   "name": "python",
   "nbconvert_exporter": "python",
   "pygments_lexer": "ipython3",
   "version": "3.6.3"
  }
 },
 "nbformat": 4,
 "nbformat_minor": 2
}
