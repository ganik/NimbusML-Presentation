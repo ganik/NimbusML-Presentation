{
  "cells": [
    {
      "metadata": {
        "collapsed": true
      },
      "cell_type": "markdown",
      "source": "## Recap:\n* Showed how to add NimbusML components into existing scikit-learn script\n* Introduction on: \n    * NimbusML structures: Pipeline, DataStream, FileDataStream\n    * and syntax: <<, columns\n* Example on text processing\n* Example on image processing\n"
    },
    {
      "metadata": {},
      "cell_type": "markdown",
      "source": "## Future PyTLC developments:\n* Sweeping\n* More extensive benchmarks\n* Recipes\n* GUI integration\n* Distributed training"
    },
    {
      "metadata": {},
      "cell_type": "markdown",
      "source": "## Important links:\n * NimbusML documentation: https://docs.microsoft.com/en-us/NimbusML/overview\n * NimbusML code in GitHub: https://github.com/Microsoft/NimbusML\n * NimbusML support: tlcsupp@microsoft.com"
    },
    {
      "metadata": {},
      "cell_type": "markdown",
      "source": "## Thanks:\n* To Azure Notebooks team (Rick Winter, Shahrokh Mortazavi)\n"
    }
  ],
  "metadata": {
    "kernelspec": {
      "name": "python36",
      "display_name": "Python 3.6",
      "language": "python"
    },
    "language_info": {
      "mimetype": "text/x-python",
      "nbconvert_exporter": "python",
      "name": "python",
      "pygments_lexer": "ipython3",
      "version": "3.6.6",
      "file_extension": ".py",
      "codemirror_mode": {
        "version": 3,
        "name": "ipython"
      }
    }
  },
  "nbformat": 4,
  "nbformat_minor": 2
}