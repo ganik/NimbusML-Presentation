{
  "cells": [
    {
      "metadata": {},
      "cell_type": "markdown",
      "source": "# Install Tutorials (might take 1 to 7 mins)"
    },
    {
      "metadata": {},
      "cell_type": "markdown",
      "source": "\n"
    },
    {
      "metadata": {
        "trusted": true
      },
      "cell_type": "code",
      "source": "# install NimbusML\nimport sys\n!{sys.executable.replace('python', 'pip') + ' install nimbusml'}\nprint(\"wheel installed.\")\n\n# run quick tests\ncmd = sys.executable + ' -m nimbusml.examples.FastLinearClassifier'\n!{cmd}\nprint(\"tests ok.\")\n",
      "execution_count": null,
      "outputs": []
    },
    {
      "metadata": {
        "trusted": false
      },
      "cell_type": "code",
      "source": "",
      "execution_count": null,
      "outputs": []
    }
  ],
  "metadata": {
    "kernelspec": {
      "name": "python36",
      "display_name": "Python 3.6",
      "language": "python"
    },
    "language_info": {
      "mimetype": "text/x-python",
      "nbconvert_exporter": "python",
      "name": "python",
      "pygments_lexer": "ipython3",
      "version": "3.6.6",
      "file_extension": ".py",
      "codemirror_mode": {
        "version": 3,
        "name": "ipython"
      }
    }
  },
  "nbformat": 4,
  "nbformat_minor": 2
}