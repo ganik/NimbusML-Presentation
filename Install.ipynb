{
  "cells": [
    {
      "metadata": {},
      "cell_type": "markdown",
      "source": "# Check and if needed install NimbusML package (might take 1 to 7 mins)"
    },
    {
      "metadata": {},
      "cell_type": "markdown",
      "source": "\n"
    },
    {
      "metadata": {
        "trusted": true
      },
      "cell_type": "code",
      "source": "# check NimbusML is installed\nimport nimbusml\nprint (nimbusml.__version__)\n# 0.6.5\n\n# ONLY if NimbusML is not installed, uncomment next 3 lines to install NimbusML\n#import sys\n#!{sys.executable.replace('python', 'pip') + ' install  --upgrade nimbusml==0.6.5'}\n#print(\"wheel installed.\")\n# If re-installed NimbusML make sure to restart kernel\n\n# run quick tests\n#cmd = sys.executable + ' -m nimbusml.examples.FastLinearClassifier'\n#!{cmd}\n#print(\"tests ok.\")\n",
      "execution_count": 1,
      "outputs": [
        {
          "output_type": "stream",
          "text": "0.6.5\n",
          "name": "stdout"
        }
      ]
    },
    {
      "metadata": {
        "trusted": true
      },
      "cell_type": "code",
      "source": "",
      "execution_count": null,
      "outputs": []
    }
  ],
  "metadata": {
    "kernelspec": {
      "name": "python36",
      "display_name": "Python 3.6",
      "language": "python"
    },
    "language_info": {
      "mimetype": "text/x-python",
      "nbconvert_exporter": "python",
      "name": "python",
      "pygments_lexer": "ipython3",
      "version": "3.6.6",
      "file_extension": ".py",
      "codemirror_mode": {
        "version": 3,
        "name": "ipython"
      }
    }
  },
  "nbformat": 4,
  "nbformat_minor": 2
}