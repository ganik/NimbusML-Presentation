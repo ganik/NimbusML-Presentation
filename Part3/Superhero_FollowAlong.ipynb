{
  "cells": [
    {
      "metadata": {},
      "cell_type": "markdown",
      "source": "# Tutorial 2: Image Classification with NimbusML"
    },
    {
      "metadata": {},
      "cell_type": "markdown",
      "source": "## Overview\n\n1. Introduce transfer learning\n2. Explore the data\n3. Choose a pre-trained DNN and NimbusML classifier\n4. Evaluate the classifier performance"
    },
    {
      "metadata": {},
      "cell_type": "markdown",
      "source": "## Part 1: What is a Transfer Learning?\n\n* Adapt an existing DNN model to a custom task\n* A convolutional deep neural network (DNN) trained on a large dataset\n* Example large dataset: image-net 14M images and 1000 classes\n* It takes a lot of compute resources to train a DNN\n* Useful as image featurizer for small dataset\n\n<img src=\"https://nimbusml.blob.core.windows.net/mlads/pretrained_model_V2.png\" width=500 height=500 />"
    },
    {
      "metadata": {},
      "cell_type": "markdown",
      "source": "## Pre-Trained DNN Models in NimbusML\n\nNimbusML can use any TensorFlow or ONNX pretrained models.  Two examples we will look at today are Alexnet and Mobilenet which were trained on ImageNet to ID images as one of 1000 different classes.  We can adapt them with transfer learning to classify images into specialized classes we care about.\n\nPre-trained DNNs files are large and are not part of the NimbusML package wheel file. They can be downloaded here: \n- https://pytlcexpress.blob.core.windows.net/models/alexnet_frozen.pb \n- https://pytlcexpress.blob.core.windows.net/models/mobilenet_v2_1.0_224_quant_frozen.pb"
    },
    {
      "metadata": {},
      "cell_type": "markdown",
      "source": "## Scenario: Superman vs Spiderman Classification\n\n<img src=\"https://nimbusml.blob.core.windows.net/mlads/vs.jpg\" width=300 height=300 />\n\nFor this tutorial, we've picked superheroes because they're not in ImageNet categories. Also, Superman and Spiderman both have red and blue costumes to make the detection harder.\n\nLet's build a Superman vs Spiderman classifier in NimbusML, without much deep learning or image processing knowledge."
    },
    {
      "metadata": {},
      "cell_type": "markdown",
      "source": "## Part 2: Exploratory Data Analysis"
    },
    {
      "metadata": {
        "trusted": true
      },
      "cell_type": "code",
      "source": "# Cell 2A\n# General imports and helper functions\nimport os, sys, time\nimport pandas as pd\nfrom IPython.display import Image\nfrom tutorial_helper import show_gallery, label_counts, update_image_paths",
      "execution_count": null,
      "outputs": []
    },
    {
      "metadata": {
        "trusted": true
      },
      "cell_type": "code",
      "source": "# Cell 2B\n# Load data\ndata = pd.read_csv('files/data/data.csv')\n\n# Exploratory analysis\nprint(label_counts(data), '\\n')\nprint('Data shape: {}\\n'.format(data.shape))\n\n# Update image paths to use the faster disk\nupdate_image_paths(data)\n\ndata.head()",
      "execution_count": null,
      "outputs": []
    },
    {
      "metadata": {
        "trusted": true
      },
      "cell_type": "code",
      "source": "# Cell 2C\n# Sample images\nshow_gallery(data)",
      "execution_count": null,
      "outputs": []
    },
    {
      "metadata": {
        "trusted": true
      },
      "cell_type": "code",
      "source": "# Cell 2D\n# Prepare train and test data\nfrom sklearn.model_selection import train_test_split\ntrain, test = train_test_split(data,\n                               train_size=0.8,\n                               test_size=0.2, \n                               stratify=data.IsSuperman,\n                               random_state=1) # Replace '1' with a positive integer of your choosing\nprint(label_counts(train, 'Training'))\nprint(label_counts(test, 'Test'))\n\nX_train = train.drop(columns='IsSuperman')\ny_train = train.IsSuperman\nX_test = test.drop(columns='IsSuperman')\ny_test = test.IsSuperman\n\ntrain.head()",
      "execution_count": null,
      "outputs": []
    },
    {
      "metadata": {},
      "cell_type": "markdown",
      "source": "## Part 3: Feature Extraction with Pre-Trained DNNs\n1. Build a pipeline to extract features\n2. Run the pipeline and examine the output features\n3. Add a binary classifier to the pipeline and train it"
    },
    {
      "metadata": {
        "trusted": true
      },
      "cell_type": "code",
      "source": "# Cell 3A\nfrom nimbusml import Pipeline\nfrom nimbusml.linear_model import LogisticRegressionBinaryClassifier, FastLinearBinaryClassifier, AveragedPerceptronBinaryClassifier\nfrom nimbusml.ensemble import LightGbmBinaryClassifier\nfrom nimbusml.feature_extraction.image import Loader, Resizer, PixelExtractor\nfrom nimbusml.preprocessing import TensorFlowScorer\nfrom nimbusml.preprocessing.schema import ColumnDropper",
      "execution_count": null,
      "outputs": []
    },
    {
      "metadata": {
        "trusted": true
      },
      "cell_type": "code",
      "source": "# Cell 3B\n# Configure our Transfer Learning pipeline\n\n# Choose DNN\n\n## Mobilenet\n# file         = 'mobilenet_v2_1.0_224_quant_frozen.pb'\n# input_layer  = 'input'\n# output_layer = 'output'\n# wth, ht      = 224, 224\n\n## MnasNet\nfile         = 'mnasnet_1.3_224.pb'\ninput_layer  = 'input'\noutput_layer = 'mnasnet_1/cell_15/output' # You can try changing this to 'output'\nwth, ht      = 224, 224\n\n# Choose final classifier\nalgo = LogisticRegressionBinaryClassifier()  # Try changing this to FastLinearBinaryClassifier() or AveragedPerceptronBinaryClassifier()",
      "execution_count": null,
      "outputs": []
    },
    {
      "metadata": {
        "trusted": true
      },
      "cell_type": "code",
      "source": "# Cell 3C\n# Prepare and clean data\n\n# Load image files as objects\nloader = Loader(columns = {input_layer:'ImagePath'}) # columns = {output_col_name:input_col_name}\n# Transform all images to same dimensions\nresizer = Resizer(image_width=wth, \n                  image_height=ht, \n                  columns = [input_layer])  # equivalent to columns = {'Placeholder':'Placeholder'}\n# Extract pixles into arrays\npix_extractor = PixelExtractor(columns = [input_layer],\n                               interleave_argb = True)\n\npipeline = Pipeline([loader, resizer, pix_extractor])\n\n# pipeline.clone().fit_transform(X_train.head())",
      "execution_count": null,
      "outputs": []
    },
    {
      "metadata": {
        "trusted": true
      },
      "cell_type": "code",
      "source": "# Cell 3D\n# Add pre-trained model\ndnn_featurizer = TensorFlowScorer(model=file,\n                                  columns={output_layer:input_layer})\npipeline.append(dnn_featurizer)\n\n# Remove extraneous input columns\nremove_inputs = ColumnDropper(columns=[input_layer, 'ImagePath'])\npipeline.append(remove_inputs)",
      "execution_count": null,
      "outputs": []
    },
    {
      "metadata": {
        "trusted": true
      },
      "cell_type": "code",
      "source": "# Cell 3E\n# Train a binary classifier\npipeline.append(algo)\n\nclf = pipeline.fit(X_train, y_train)",
      "execution_count": null,
      "outputs": []
    },
    {
      "metadata": {},
      "cell_type": "markdown",
      "source": "## Part 4: Evaluate Classifier Performance\n1. Look at the predictions\n2. Calculate confusion matrix\n3. Examine the classifier mistakes\n4. Save your classifier model"
    },
    {
      "metadata": {
        "trusted": true
      },
      "cell_type": "code",
      "source": "# Cell 4A\nImage(X_test.iloc[0,0])",
      "execution_count": null,
      "outputs": []
    },
    {
      "metadata": {
        "trusted": true
      },
      "cell_type": "code",
      "source": "# Cell 4B\nclf.predict(X_test[0:1])",
      "execution_count": null,
      "outputs": []
    },
    {
      "metadata": {
        "trusted": true
      },
      "cell_type": "code",
      "source": "# Cell 4C\n# Run on full test set\nstart = time.time()\n\nmetrics, predictions = clf.test(X_test, y_test, output_scores=True)\n\nfinish = time.time()\ntest_time = finish - start\nprint(\"Test time: {0:.2f} seconds\".format(test_time))\n\nmetrics",
      "execution_count": null,
      "outputs": []
    },
    {
      "metadata": {
        "trusted": true
      },
      "cell_type": "code",
      "source": "# Cell 4D\n# Join predictions with paths and original label\npath_and_label = test.reset_index()[['ImagePath', 'IsSuperman']].rename(columns={'IsSuperman': 'Label'})\npredictions = pd.concat([path_and_label, predictions], axis=1)\npredictions.head()",
      "execution_count": null,
      "outputs": []
    },
    {
      "metadata": {
        "trusted": true
      },
      "cell_type": "code",
      "source": "# Cell 4E\n# View confusion matrix\nfrom sklearn.metrics import confusion_matrix\nconfusion_matrix(predictions.Label, predictions.PredictedLabel)",
      "execution_count": null,
      "outputs": []
    },
    {
      "metadata": {
        "trusted": true
      },
      "cell_type": "code",
      "source": "# Cell 4F\n# Sort test images by predicted probability\npredictions['IsMistake'] = predictions.Label != predictions.PredictedLabel\npredictions.sort_values('Probability', inplace=True)\nshow_gallery(predictions, num_images=100, randomize=False, add_prob=True, flag_mistakes=True)",
      "execution_count": null,
      "outputs": []
    },
    {
      "metadata": {
        "trusted": true
      },
      "cell_type": "code",
      "source": "# Cell 4G\n# View mistakes: Superman classified incorrectly\nsuperman_mistakes = predictions[(predictions.Label == 1) & predictions.IsMistake] \nshow_gallery(superman_mistakes, add_name=True, add_prob=True)",
      "execution_count": null,
      "outputs": []
    },
    {
      "metadata": {
        "trusted": true
      },
      "cell_type": "code",
      "source": "# Cell 4H\n# View mistakes: Spiderman classified incorrectly\nspiderman_mistakes = predictions[(predictions.Label == 0) & predictions.IsMistake] \nshow_gallery(spiderman_mistakes, add_name=True, add_prob=True)",
      "execution_count": null,
      "outputs": []
    },
    {
      "metadata": {
        "trusted": true
      },
      "cell_type": "code",
      "source": "# Cell 4I\n# Save your image classifier for use in any Python or .NET app\nclf.save_model(\"superheroes.zip\")",
      "execution_count": null,
      "outputs": []
    },
    {
      "metadata": {},
      "cell_type": "markdown",
      "source": "# Recap\n* Introduced transfer learning are and how to use it in NimbusML\n* Built a superman vs spiderman image classifier without any deep learning or image processing knowledge requirement\n* Now have a model to take home\n"
    }
  ],
  "metadata": {
    "kernelspec": {
      "name": "python36",
      "display_name": "Python 3.6",
      "language": "python"
    },
    "language_info": {
      "mimetype": "text/x-python",
      "nbconvert_exporter": "python",
      "name": "python",
      "pygments_lexer": "ipython3",
      "version": "3.6.6",
      "file_extension": ".py",
      "codemirror_mode": {
        "version": 3,
        "name": "ipython"
      }
    }
  },
  "nbformat": 4,
  "nbformat_minor": 2
}