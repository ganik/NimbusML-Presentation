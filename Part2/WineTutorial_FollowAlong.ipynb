{
  "cells": [
    {
      "metadata": {},
      "cell_type": "markdown",
      "source": "# Tutorial 1: How Much is Your Wine?\n\nIn this tutorial, we will create an end-to-end regression model with the wine review dataset. The API of PyTLC (short for microsoftml_scikit) is compatible with sklearn, so users who are already familiar with scikit-learn can get started right away. There are also some \"advanced\" techniques which can be helpful for optimal performance:\n\n1. PyTLC pipelines\n2. FileDataStream\n3. Column operations and roles\n\nThis tutorial is organized as following:\n## 1. Quick Start\n## 2. Wine Review Example\n### 2.1 Data Preprocessing - Stream Data from Files\n### 2.2 Model Development\n### 2.3 Model Evaluation\n## 3. Recap"
    },
    {
      "metadata": {},
      "cell_type": "markdown",
      "source": "*Let's get started!!*\n\nNote that it would be useful to have this page opened for class referenece:\n\nhttps://review.docs.microsoft.com/en-us/pytlc/?branch=release_v.0.0.5"
    },
    {
      "metadata": {},
      "cell_type": "markdown",
      "source": "## 1. Quick Start"
    },
    {
      "metadata": {
        "collapsed": true,
        "trusted": false
      },
      "cell_type": "code",
      "source": "from microsoftml_scikit.linear_model import FastLinearClassifier\nfrom microsoftml_scikit.feature_extraction.categorical import OneHotVectorizer\nfrom microsoftml_scikit.feature_selection import CountSelector\nfrom microsoftml_scikit.feature_extraction.text import NGramFeaturizer, WordEmbedding\nfrom microsoftml_scikit.preprocessing.missing_values import Filter\nfrom microsoftml_scikit.ensemble import LightGbmRegressor\nfrom microsoftml_scikit.utils.exports import img_export_pipeline\nfrom microsoftml_scikit import FileDataStream, Pipeline",
      "execution_count": null,
      "outputs": []
    },
    {
      "metadata": {
        "collapsed": true,
        "trusted": false
      },
      "cell_type": "code",
      "source": "",
      "execution_count": null,
      "outputs": []
    }
  ],
  "metadata": {
    "kernelspec": {
      "name": "python36",
      "display_name": "Python 3.6",
      "language": "python"
    },
    "language_info": {
      "mimetype": "text/x-python",
      "nbconvert_exporter": "python",
      "name": "python",
      "pygments_lexer": "ipython3",
      "version": "3.6.6",
      "file_extension": ".py",
      "codemirror_mode": {
        "version": 3,
        "name": "ipython"
      }
    }
  },
  "nbformat": 4,
  "nbformat_minor": 2
}